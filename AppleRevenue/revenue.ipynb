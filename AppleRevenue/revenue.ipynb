{
 "cells": [
  {
   "cell_type": "code",
   "execution_count": 7,
   "metadata": {},
   "outputs": [],
   "source": [
    "import pandas as pd"
   ]
  },
  {
   "cell_type": "code",
   "execution_count": 14,
   "metadata": {},
   "outputs": [],
   "source": [
    "df = pd.read_csv('applerevenue .csv')\n",
    "df.to_excel('apple_fin.xlsx')"
   ]
  },
  {
   "cell_type": "code",
   "execution_count": 18,
   "metadata": {},
   "outputs": [
    {
     "name": "stdout",
     "output_type": "stream",
     "text": [
      "               open  high  low  close  volume  profit or not\n",
      "open            NaN   NaN  NaN    NaN     NaN            NaN\n",
      "high            NaN   NaN  NaN    NaN     NaN            NaN\n",
      "low             NaN   NaN  NaN    NaN     NaN            NaN\n",
      "close           NaN   NaN  NaN    NaN     NaN            NaN\n",
      "volume          NaN   NaN  NaN    NaN     NaN            NaN\n",
      "profit or not   NaN   NaN  NaN    NaN     NaN            NaN\n"
     ]
    }
   ],
   "source": []
  },
  {
   "cell_type": "code",
   "execution_count": null,
   "metadata": {},
   "outputs": [],
   "source": []
  }
 ],
 "metadata": {
  "kernelspec": {
   "display_name": "Python 3",
   "language": "python",
   "name": "python3"
  },
  "language_info": {
   "codemirror_mode": {
    "name": "ipython",
    "version": 3
   },
   "file_extension": ".py",
   "mimetype": "text/x-python",
   "name": "python",
   "nbconvert_exporter": "python",
   "pygments_lexer": "ipython3",
   "version": "3.12.0"
  }
 },
 "nbformat": 4,
 "nbformat_minor": 2
}
