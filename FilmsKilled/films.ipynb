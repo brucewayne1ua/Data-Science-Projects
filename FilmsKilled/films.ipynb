{
 "cells": [
  {
   "cell_type": "code",
   "execution_count": 2,
   "metadata": {},
   "outputs": [],
   "source": [
    "import pandas as pd\n",
    "\n"
   ]
  },
  {
   "cell_type": "code",
   "execution_count": 6,
   "metadata": {},
   "outputs": [
    {
     "name": "stdout",
     "output_type": "stream",
     "text": [
      "Средний рейтинг IMDB для фильмов: 6.835963302752293\n",
      "                   Film  Year  Body_Count MPAA_Rating  \\\n",
      "0  24 Hour Party People  2002           7           R   \n",
      "1         28 Days Later  2002          53           R   \n",
      "2        28 Weeks Later  2007         212           R   \n",
      "3      30 Days of Night  2007          67           R   \n",
      "4                   300  2007         600           R   \n",
      "\n",
      "                          Genre                 Director  Length_Minutes  \\\n",
      "0  Biography|Comedy|Drama|Music     Michael Winterbottom             117   \n",
      "1        Horror|Sci-Fi|Thriller              Danny Boyle             113   \n",
      "2        Horror|Sci-Fi|Thriller  Juan Carlos Fresnadillo             100   \n",
      "3               Horror|Thriller              David Slade             113   \n",
      "4    Action|Fantasy|History|War              Zack Snyder             117   \n",
      "\n",
      "   IMDB_Rating  \n",
      "0          7.3  \n",
      "1          7.6  \n",
      "2          7.0  \n",
      "3          6.6  \n",
      "4          7.7  \n"
     ]
    }
   ],
   "source": [
    "# Чтение данных из файла CSV и создание DataFrame\n",
    "df = pd.read_csv(\"filmdeathcounts2.csv\", encoding=\"UTF-8\")\n",
    "\n",
    "# Вычисление среднего рейтинга IMDB\n",
    "average_imdb_rating = df['IMDB_Rating'].mean()\n",
    "\n",
    "# Вывод среднего рейтинга IMDB\n",
    "print(\"Средний рейтинг IMDB для фильмов:\", average_imdb_rating)\n",
    "print(df.head())\n",
    "\n"
   ]
  },
  {
   "cell_type": "code",
   "execution_count": 4,
   "metadata": {},
   "outputs": [
    {
     "name": "stdout",
     "output_type": "stream",
     "text": [
      "                   Film  Year  Body_Count MPAA_Rating  \\\n",
      "0  24 Hour Party People  2002           7           R   \n",
      "1         28 Days Later  2002          53           R   \n",
      "2        28 Weeks Later  2007         212           R   \n",
      "3      30 Days of Night  2007          67           R   \n",
      "4                   300  2007         600           R   \n",
      "\n",
      "                       Genre                 Director  Length_Minutes  \\\n",
      "0  BiographyComedyDramaMusic     Michael Winterbottom             117   \n",
      "1       HorrorSci-FiThriller              Danny Boyle             113   \n",
      "2       HorrorSci-FiThriller  Juan Carlos Fresnadillo             100   \n",
      "3             HorrorThriller              David Slade             113   \n",
      "4    ActionFantasyHistoryWar              Zack Snyder             117   \n",
      "\n",
      "   IMDB_Rating  \n",
      "0          7.3  \n",
      "1          7.6  \n",
      "2          7.0  \n",
      "3          6.6  \n",
      "4          7.7  \n",
      "                   Film  Year  Body_Count MPAA_Rating  \\\n",
      "0  24 Hour Party People  2002           7           R   \n",
      "1         28 Days Later  2002          53           R   \n",
      "2        28 Weeks Later  2007         212           R   \n",
      "3      30 Days of Night  2007          67           R   \n",
      "4                   300  2007         600           R   \n",
      "\n",
      "                          Genre                 Director  Length_Minutes  \\\n",
      "0  Biography|Comedy|Drama|Music     Michael Winterbottom             117   \n",
      "1        Horror|Sci-Fi|Thriller              Danny Boyle             113   \n",
      "2        Horror|Sci-Fi|Thriller  Juan Carlos Fresnadillo             100   \n",
      "3               Horror|Thriller              David Slade             113   \n",
      "4    Action|Fantasy|History|War              Zack Snyder             117   \n",
      "\n",
      "   IMDB_Rating  \n",
      "0          7.3  \n",
      "1          7.6  \n",
      "2          7.0  \n",
      "3          6.6  \n",
      "4          7.7  \n"
     ]
    }
   ],
   "source": [
    "# Чтение данных из файла CSV и создание DataFrame\n",
    "df = pd.read_csv(\"filmdeathcounts.csv\")\n",
    "\n",
    "\n",
    "# Вывод первых нескольких строк DataFrame для проверки\n",
    "print(df.head())\n",
    "\n",
    "\n",
    "\n",
    "# Чтение данных из файла CSV и создание DataFrame\n",
    "df = pd.read_csv(\"filmdeathcounts.csv\")\n",
    "\n",
    "# Переименование столбцов\n",
    "df = df.rename(columns=lambda x: x.replace('_', ' '))\n",
    "\n",
    "# Вывод первых нескольких строк DataFrame для проверки\n",
    "print(df.head())"
   ]
  },
  {
   "cell_type": "code",
   "execution_count": 6,
   "metadata": {},
   "outputs": [
    {
     "name": "stdout",
     "output_type": "stream",
     "text": [
      "                   Film  Year  Body Count MPAA Rating  \\\n",
      "0  24 Hour Party People  2002           7           R   \n",
      "1         28 Days Later  2002          53           R   \n",
      "2        28 Weeks Later  2007         212           R   \n",
      "3      30 Days of Night  2007          67           R   \n",
      "4                   300  2007         600           R   \n",
      "\n",
      "                          Genre                 Director  Length Minutes  \\\n",
      "0  Biography|Comedy|Drama|Music     Michael Winterbottom             117   \n",
      "1        Horror|Sci-Fi|Thriller              Danny Boyle             113   \n",
      "2        Horror|Sci-Fi|Thriller  Juan Carlos Fresnadillo             100   \n",
      "3               Horror|Thriller              David Slade             113   \n",
      "4    Action|Fantasy|History|War              Zack Snyder             117   \n",
      "\n",
      "   IMDB Rating  \n",
      "0          7.3  \n",
      "1          7.6  \n",
      "2          7.0  \n",
      "3          6.6  \n",
      "4          7.7  \n"
     ]
    }
   ],
   "source": [
    "# Удаление лишних пробелов в значении столбца 'MPAA Rating'\n",
    "df['MPAA Rating'] = df['MPAA Rating'].str.strip()\n",
    "\n",
    "# Вывод первых нескольких строк DataFrame для проверки\n",
    "print(df.head())"
   ]
  },
  {
   "cell_type": "code",
   "execution_count": 13,
   "metadata": {},
   "outputs": [
    {
     "name": "stdout",
     "output_type": "stream",
     "text": [
      "                   Film  Year  Body_Count MPAA_Rating  \\\n",
      "0  24 Hour Party People  2002           7           R   \n",
      "1         28 Days Later  2002          53           R   \n",
      "2        28 Weeks Later  2007         212           R   \n",
      "3      30 Days of Night  2007          67           R   \n",
      "4                   300  2007         600           R   \n",
      "\n",
      "                          Genre                 Director  Length_Minutes  \\\n",
      "0  Biography|Comedy|Drama|Music     Michael Winterbottom             117   \n",
      "1        Horror|Sci-Fi|Thriller              Danny Boyle             113   \n",
      "2        Horror|Sci-Fi|Thriller  Juan Carlos Fresnadillo             100   \n",
      "3               Horror|Thriller              David Slade             113   \n",
      "4    Action|Fantasy|History|War              Zack Snyder             117   \n",
      "\n",
      "   IMDB_Rating  \n",
      "0          7.3  \n",
      "1          7.6  \n",
      "2          7.0  \n",
      "3          6.6  \n",
      "4          7.7  \n"
     ]
    }
   ],
   "source": [
    "# Чтение данных из файла CSV и создание DataFrame\n",
    "df = pd.read_csv(\"filmdeathcounts.csv\")\n",
    "\n",
    "\n",
    "\n",
    "print(df.head())"
   ]
  },
  {
   "cell_type": "code",
   "execution_count": null,
   "metadata": {},
   "outputs": [],
   "source": []
  }
 ],
 "metadata": {
  "kernelspec": {
   "display_name": "Python 3",
   "language": "python",
   "name": "python3"
  },
  "language_info": {
   "codemirror_mode": {
    "name": "ipython",
    "version": 3
   },
   "file_extension": ".py",
   "mimetype": "text/x-python",
   "name": "python",
   "nbconvert_exporter": "python",
   "pygments_lexer": "ipython3",
   "version": "3.12.0"
  }
 },
 "nbformat": 4,
 "nbformat_minor": 2
}
