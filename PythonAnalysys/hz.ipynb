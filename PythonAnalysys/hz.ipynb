{
 "cells": [
  {
   "cell_type": "code",
   "execution_count": 35,
   "metadata": {},
   "outputs": [
    {
     "name": "stdout",
     "output_type": "stream",
     "text": [
      "1.0000000000000004 0.9999999999999998\n"
     ]
    }
   ],
   "source": [
    "from sklearn.linear_model import LinearRegression\n",
    "import matplotlib.pyplot as plt\n",
    "\n",
    "# Создание модели линейной регрессии\n",
    "model = LinearRegression()\n",
    "\n",
    "# Подготовка данных\n",
    "X = [[1], [2], [3]]  # Независимая переменная (например, признаки)\n",
    "y = [2, 3, 4]         # Зависимая переменная (например, целевая переменная)\n",
    "\n",
    "# Обучение модели на данных\n",
    "model.fit(X, y)\n",
    "\n",
    "# Получение коэффициентов\n",
    "intercept = model.intercept_  # коэффициент сдвига (интерсепт)\n",
    "slope = model.coef_[0]        # коэффициент наклона\n",
    "\n",
    "\n",
    "print(intercept, slope)\n"
   ]
  },
  {
   "cell_type": "code",
   "execution_count": null,
   "metadata": {},
   "outputs": [],
   "source": []
  }
 ],
 "metadata": {
  "kernelspec": {
   "display_name": "Python 3",
   "language": "python",
   "name": "python3"
  },
  "language_info": {
   "codemirror_mode": {
    "name": "ipython",
    "version": 3
   },
   "file_extension": ".py",
   "mimetype": "text/x-python",
   "name": "python",
   "nbconvert_exporter": "python",
   "pygments_lexer": "ipython3",
   "version": "3.12.0"
  }
 },
 "nbformat": 4,
 "nbformat_minor": 2
}
